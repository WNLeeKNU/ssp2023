{
 "cells": [
  {
   "cell_type": "code",
   "execution_count": 5,
   "metadata": {},
   "outputs": [],
   "source": [
    "import librosa\n",
    "import soundfile\n",
    "import numpy as np\n"
   ]
  },
  {
   "cell_type": "code",
   "execution_count": 18,
   "metadata": {},
   "outputs": [
    {
     "name": "stdout",
     "output_type": "stream",
     "text": [
      "[-0.00482178 -0.00482178 -0.00476074 ... -0.00094604 -0.00073242\n",
      " -0.00054932] (27716,)\n"
     ]
    }
   ],
   "source": [
    "Fs = 16000\n",
    "x, sr = librosa.load('digitrec_segmented_WNLeeKNU_3_kdigits0-3.wav',sr = Fs)\n",
    "print(x,x.shape)\n",
    "\n",
    "x_32k = librosa.resample(x,sr,32000)\n",
    "x_48k = librosa.resample(x,sr,48000)\n",
    "x_44k = librosa.resample(x,sr,44100)"
   ]
  },
  {
   "cell_type": "code",
   "execution_count": 13,
   "metadata": {},
   "outputs": [
    {
     "ename": "NameError",
     "evalue": "name 'NF' is not defined",
     "output_type": "error",
     "traceback": [
      "\u001b[1;31m---------------------------------------------------------------------------\u001b[0m",
      "\u001b[1;31mNameError\u001b[0m                                 Traceback (most recent call last)",
      "\u001b[1;32m<ipython-input-13-8b233916c08e>\u001b[0m in \u001b[0;36m<module>\u001b[1;34m\u001b[0m\n\u001b[1;32m----> 1\u001b[1;33m \u001b[0mstft_32k\u001b[0m \u001b[1;33m=\u001b[0m \u001b[0mlibrosa\u001b[0m\u001b[1;33m.\u001b[0m\u001b[0mstft\u001b[0m\u001b[1;33m(\u001b[0m\u001b[0mx_32k\u001b[0m\u001b[1;33m,\u001b[0m\u001b[0mn_fft\u001b[0m\u001b[1;33m=\u001b[0m\u001b[0mNF\u001b[0m\u001b[1;33m,\u001b[0m \u001b[0mhip_length\u001b[0m\u001b[1;33m=\u001b[0m\u001b[0mNs\u001b[0m\u001b[1;33m)\u001b[0m\u001b[1;33m\u001b[0m\u001b[1;33m\u001b[0m\u001b[0m\n\u001b[0m\u001b[0;32m      2\u001b[0m \u001b[0mmagnitube\u001b[0m \u001b[1;33m=\u001b[0m \u001b[0mnp\u001b[0m\u001b[1;33m.\u001b[0m\u001b[0mabs\u001b[0m\u001b[1;33m(\u001b[0m\u001b[0mfft\u001b[0m\u001b[1;33m)\u001b[0m\u001b[1;33m\u001b[0m\u001b[1;33m\u001b[0m\u001b[0m\n",
      "\u001b[1;31mNameError\u001b[0m: name 'NF' is not defined"
     ]
    }
   ],
   "source": [
    "Ts = 0.01\n",
    "Tf = 0.02\n",
    "\n",
    "stft_32k = librosa.stft(x_32k,n_fft=NF_32k, hip_length=Ns_32k)\n",
    "magnitube = np.abs(fft)"
   ]
  },
  {
   "cell_type": "code",
   "execution_count": null,
   "metadata": {},
   "outputs": [],
   "source": []
  },
  {
   "cell_type": "code",
   "execution_count": 17,
   "metadata": {},
   "outputs": [],
   "source": [
    "soundfile.write(\"./x_32k.wav\",x_32k,32000,format='WAV')\n",
    "soundfile.write(\"./x_48k.wav\",x_48k,48000,format='WAV')\n",
    "soundfile.write(\"./x_44k.wav\",x_48k,44100,format='WAV')"
   ]
  },
  {
   "cell_type": "code",
   "execution_count": null,
   "metadata": {},
   "outputs": [],
   "source": [
    "soundfil"
   ]
  }
 ],
 "metadata": {
  "kernelspec": {
   "display_name": "Python 3",
   "language": "python",
   "name": "python3"
  },
  "language_info": {
   "codemirror_mode": {
    "name": "ipython",
    "version": 3
   },
   "file_extension": ".py",
   "mimetype": "text/x-python",
   "name": "python",
   "nbconvert_exporter": "python",
   "pygments_lexer": "ipython3",
   "version": "3.7.6"
  }
 },
 "nbformat": 4,
 "nbformat_minor": 4
}
